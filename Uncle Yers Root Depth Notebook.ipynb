{
 "metadata": {
  "kernelspec": {
   "display_name": "Streamlit Notebook",
   "name": "streamlit"
  },
  "lastEditStatus": {
   "notebookId": "6msmcc4vmaltmwxryysz",
   "authorId": "5145499196185",
   "authorName": "VVASAMSNOW",
   "authorEmail": "vvasam@gmail.com",
   "sessionId": "f4783685-9c42-4ea3-9300-6820a272ba6c",
   "lastEditTime": 1752465984081
  }
 },
 "nbformat_minor": 5,
 "nbformat": 4,
 "cells": [
  {
   "cell_type": "markdown",
   "id": "9db010ce-5c87-47cb-a56b-bc2f31784265",
   "metadata": {
    "name": "Title_Cell",
    "collapsed": false
   },
   "source": "# Add Rows to Flower Detail Table\nEdit the \"set\" cells to udpate the variables, then clikc \"Run All\" in the top left-corner.\n\nMarkdown is just text. **But** :red[you] *can* :green[also] \nmake it :blue[fancy]!"
  },
  {
   "cell_type": "code",
   "id": "916d1ae1-e97d-4ed0-8eb4-84acdfacc323",
   "metadata": {
    "language": "sql",
    "name": "set_root_depth_code"
   },
   "outputs": [],
   "source": "set rdc = 'M';",
   "execution_count": null
  },
  {
   "cell_type": "code",
   "id": "c0e2f48a-18fb-4791-8338-d3f4bceb6558",
   "metadata": {
    "language": "sql",
    "name": "set_flower_name"
   },
   "outputs": [],
   "source": "set fn = 'Tulip';",
   "execution_count": null
  },
  {
   "cell_type": "code",
   "id": "4278af10-46d0-4721-ba46-6bc41b6ea4b7",
   "metadata": {
    "language": "sql",
    "name": "check_my_variables"
   },
   "outputs": [],
   "source": "select $fn, $rdc;",
   "execution_count": null
  },
  {
   "cell_type": "code",
   "id": "17186e67-73b2-44c1-8aff-a94182acc9ae",
   "metadata": {
    "language": "sql",
    "name": "insert_row"
   },
   "outputs": [],
   "source": "insert into garden_plants.flowers.flower_details\nselect  $fn, $rdc;",
   "execution_count": null
  },
  {
   "cell_type": "code",
   "id": "1b4604a2-dfa6-47d6-b5bf-a5b8fa5b9138",
   "metadata": {
    "language": "sql",
    "name": "check_the_table"
   },
   "outputs": [],
   "source": "select* from garden_plants.flowers.flower_details;",
   "execution_count": null
  }
 ]
}